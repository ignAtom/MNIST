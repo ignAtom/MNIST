{
 "cells": [
  {
   "cell_type": "code",
   "execution_count": 1,
   "metadata": {},
   "outputs": [
    {
     "name": "stdout",
     "output_type": "stream",
     "text": [
      "Requirement already satisfied: torch in c:\\users\\ritam\\anaconda3\\lib\\site-packages (2.0.1)\n",
      "Requirement already satisfied: filelock in c:\\users\\ritam\\anaconda3\\lib\\site-packages (from torch) (3.9.0)\n",
      "Requirement already satisfied: typing-extensions in c:\\users\\ritam\\anaconda3\\lib\\site-packages (from torch) (4.5.0)\n",
      "Requirement already satisfied: sympy in c:\\users\\ritam\\anaconda3\\lib\\site-packages (from torch) (1.11.1)\n",
      "Requirement already satisfied: networkx in c:\\users\\ritam\\anaconda3\\lib\\site-packages (from torch) (3.1)\n",
      "Requirement already satisfied: jinja2 in c:\\users\\ritam\\anaconda3\\lib\\site-packages (from torch) (3.1.2)\n",
      "Requirement already satisfied: MarkupSafe>=2.0 in c:\\users\\ritam\\anaconda3\\lib\\site-packages (from jinja2->torch) (2.1.1)\n",
      "Requirement already satisfied: mpmath>=0.19 in c:\\users\\ritam\\anaconda3\\lib\\site-packages (from sympy->torch) (1.3.0)\n",
      "Note: you may need to restart the kernel to use updated packages.\n",
      "Requirement already satisfied: torchvision in c:\\users\\ritam\\anaconda3\\lib\\site-packages (0.15.2)\n",
      "Note: you may need to restart the kernel to use updated packages.\n"
     ]
    }
   ],
   "source": [
    "%pip install torch\n",
    "%pip install torchvision --no-deps"
   ]
  },
  {
   "cell_type": "code",
   "execution_count": 2,
   "metadata": {},
   "outputs": [],
   "source": [
    "import torch\n",
    "import torchvision\n",
    "import torch.nn as tn\n",
    "import matplotlib.pyplot as plt\n",
    "import torchvision.transforms as tt\n",
    "import torch.utils as utils"
   ]
  },
  {
   "cell_type": "code",
   "execution_count": 3,
   "metadata": {},
   "outputs": [
    {
     "name": "stdout",
     "output_type": "stream",
     "text": [
      "Dataset MNIST\n",
      "    Number of datapoints: 60000\n",
      "    Root location: ./data\n",
      "    Split: Train\n",
      "Dataset MNIST\n",
      "    Number of datapoints: 10000\n",
      "    Root location: data\n",
      "    Split: Test\n"
     ]
    }
   ],
   "source": [
    "train_data = torchvision.datasets.MNIST('./data',download=False)\n",
    "test_data = torchvision.datasets.MNIST('data',train=False)\n",
    "print(train_data)\n",
    "print(test_data)"
   ]
  },
  {
   "cell_type": "code",
   "execution_count": 4,
   "metadata": {},
   "outputs": [
    {
     "data": {
      "text/plain": [
       "Text(0.5, 1.0, 'Label of Image:0')"
      ]
     },
     "execution_count": 4,
     "metadata": {},
     "output_type": "execute_result"
    },
    {
     "data": {
      "image/png": "[encoded data removed]",
      "text/plain": [
       "<Figure size 640x480 with 2 Axes>"
      ]
     },
     "metadata": {},
     "output_type": "display_data"
    }
   ],
   "source": [
    "import matplotlib.pyplot as plt\n",
    "  \n",
    "plt.subplot(1,2,1)\n",
    "image, label = train_data[0]\n",
    "plt.imshow(image, cmap='gray')\n",
    "plt.title(\"Label of Image:{}\".format(label),fontsize=20)\n",
    "plt.subplot(1,2,2)\n",
    "image, label = train_data[1]\n",
    "plt.imshow(image, cmap='gray')\n",
    "plt.title(\"Label of Image:{}\".format(label),fontsize=20)"
   ]
  },
  {
   "cell_type": "code",
   "execution_count": 5,
   "metadata": {},
   "outputs": [],
   "source": [
    "train_data = torchvision.datasets.MNIST('data',train=True,transform=tt.ToTensor())\n",
    "test_data = torchvision.datasets.MNIST('data',train=False,transform=tt.ToTensor()) "
   ]
  },
  {
   "cell_type": "code",
   "execution_count": 6,
   "metadata": {},
   "outputs": [],
   "source": [
    "train_dataLoader = torch.utils.data.DataLoader(train_data, batch_size=125,shuffle=True)\n",
    "test_dataLoader = torch.utils.data.DataLoader(test_data,batch_size=25,shuffle=False)"
   ]
  },
  {
   "cell_type": "code",
   "execution_count": 7,
   "metadata": {},
   "outputs": [],
   "source": [
    "class LogisticRegression(tn.Module):\n",
    "    def __init__(self,input_size,num_classes):\n",
    "        super(LogisticRegression,self).__init__()\n",
    "        self.linear = tn.Linear(input_size,num_classes)\n",
    "    \n",
    "    def forward(self,feature):\n",
    "        output = self.linear(feature)\n",
    "        return output"
   ]
  },
  {
   "cell_type": "code",
   "execution_count": 8,
   "metadata": {},
   "outputs": [],
   "source": [
    "model = LogisticRegression(28*28,10)\n",
    "loss = tn.CrossEntropyLoss()\n",
    "optimizer = torch.optim.SGD(model.parameters(),lr=0.5)"
   ]
  },
  {
   "cell_type": "code",
   "execution_count": 9,
   "metadata": {},
   "outputs": [
    {
     "name": "stdout",
     "output_type": "stream",
     "text": [
      "Iteration: 200. Loss: 0.3599347174167633. Accuracy: 89.81999969482422\n",
      "Iteration: 400. Loss: 0.32694128155708313. Accuracy: 91.44000244140625\n",
      "Iteration: 680. Loss: 0.33011549711227417. Accuracy: 91.68000030517578\n",
      "Iteration: 880. Loss: 0.33876317739486694. Accuracy: 91.9800033569336\n",
      "Iteration: 1160. Loss: 0.24247191846370697. Accuracy: 91.93000030517578\n",
      "Iteration: 1360. Loss: 0.15595805644989014. Accuracy: 92.02999877929688\n",
      "Iteration: 1640. Loss: 0.4524765610694885. Accuracy: 91.79000091552734\n",
      "Iteration: 1840. Loss: 0.2583963871002197. Accuracy: 92.12000274658203\n",
      "Iteration: 2120. Loss: 0.21086525917053223. Accuracy: 92.16999816894531\n",
      "Iteration: 2320. Loss: 0.3886570334434509. Accuracy: 92.18000030517578\n",
      "Iteration: 2600. Loss: 0.3690272867679596. Accuracy: 91.9800033569336\n",
      "Iteration: 2800. Loss: 0.17679151892662048. Accuracy: 92.31999969482422\n",
      "Iteration: 3080. Loss: 0.16926154494285583. Accuracy: 92.12000274658203\n",
      "Iteration: 3280. Loss: 0.2706499993801117. Accuracy: 92.12000274658203\n",
      "Iteration: 3560. Loss: 0.24380768835544586. Accuracy: 92.4000015258789\n",
      "Iteration: 3760. Loss: 0.39697903394699097. Accuracy: 92.13999938964844\n",
      "Iteration: 4040. Loss: 0.30898410081863403. Accuracy: 92.13999938964844\n",
      "Iteration: 4240. Loss: 0.2897360026836395. Accuracy: 92.0999984741211\n",
      "Iteration: 4520. Loss: 0.1995570808649063. Accuracy: 92.2300033569336\n",
      "Iteration: 4720. Loss: 0.3099175691604614. Accuracy: 91.91999816894531\n",
      "Iteration: 5000. Loss: 0.2680375576019287. Accuracy: 92.37000274658203\n",
      "Iteration: 5200. Loss: 0.3272559940814972. Accuracy: 92.4000015258789\n",
      "Iteration: 5480. Loss: 0.2026849389076233. Accuracy: 92.51000213623047\n",
      "Iteration: 5680. Loss: 0.24230147898197174. Accuracy: 92.33000183105469\n",
      "Iteration: 5960. Loss: 0.18197354674339294. Accuracy: 92.2699966430664\n",
      "Iteration: 6160. Loss: 0.1562701165676117. Accuracy: 92.63999938964844\n",
      "Iteration: 6440. Loss: 0.24285292625427246. Accuracy: 92.16999816894531\n",
      "Iteration: 6640. Loss: 0.24067053198814392. Accuracy: 92.44999694824219\n",
      "Iteration: 6920. Loss: 0.27314382791519165. Accuracy: 92.47000122070312\n",
      "Iteration: 7120. Loss: 0.26516520977020264. Accuracy: 92.45999908447266\n",
      "Final Accuracy: tensor(92.4600)\n"
     ]
    }
   ],
   "source": [
    "run = 0\n",
    "for epoch in range(15):\n",
    "    for i,(images,labels) in enumerate(train_dataLoader):\n",
    "        images = torch.autograd.Variable(images.view(-1,28*28))\n",
    "        labels = torch.autograd.Variable(labels)\n",
    "        \n",
    "        optimizer.zero_grad()\n",
    "        output = model(images)\n",
    "        compute_loss = loss(output,labels)\n",
    "        compute_loss.backward()\n",
    "        optimizer.step()\n",
    "        run+=1\n",
    "        \n",
    "        if (i+1)%200 == 0:\n",
    "            accurate = 0\n",
    "            total = 0\n",
    "            for images,labels in test_dataLoader:\n",
    "                images = torch.autograd.Variable(images.view(-1,28*28))\n",
    "                output = model(images)\n",
    "                _,predicted = torch.max(output.data, 1)\n",
    "\n",
    "                total+= labels.size(0)\n",
    "                \n",
    "                accurate+= (predicted == labels).sum()\n",
    "                accuracy_score = 100 * accurate/total\n",
    "            \n",
    "            print('Iteration: {}. Loss: {}. Accuracy: {}'.format(run, compute_loss.item(), accuracy_score))\n",
    "\n",
    "print('Final Accuracy:',accuracy_score)"
   ]
  },
  {
   "cell_type": "code",
   "execution_count": 10,
   "metadata": {},
   "outputs": [],
   "source": [
    "from sklearn.metrics import classification_report as cr\n",
    "from sklearn.metrics import confusion_matrix as cm"
   ]
  },
  {
   "cell_type": "code",
   "execution_count": null,
   "metadata": {},
   "outputs": [],
   "source": []
  },
  {
   "cell_type": "code",
   "execution_count": null,
   "metadata": {},
   "outputs": [],
   "source": []
  }
 ],
 "metadata": {
  "kernelspec": {
   "display_name": "Python 3",
   "language": "python",
   "name": "python3"
  },
  "language_info": {
   "codemirror_mode": {
    "name": "ipython",
    "version": 3
   },
   "file_extension": ".py",
   "mimetype": "text/x-python",
   "name": "python",
   "nbconvert_exporter": "python",
   "pygments_lexer": "ipython3",
   "version": "3.11.4"
  },
  "orig_nbformat": 4
 },
 "nbformat": 4,
 "nbformat_minor": 2
}
